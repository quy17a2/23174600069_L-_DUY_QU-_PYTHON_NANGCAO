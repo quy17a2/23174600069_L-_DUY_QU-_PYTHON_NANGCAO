{
 "cells": [
  {
   "cell_type": "code",
   "execution_count": 3,
   "metadata": {},
   "outputs": [],
   "source": [
    "import pandas as pd"
   ]
  },
  {
   "cell_type": "code",
   "execution_count": 1,
   "metadata": {},
   "outputs": [
    {
     "name": "stdout",
     "output_type": "stream",
     "text": [
      "   REGION_ID             REGION_NAME\n",
      "0          1                  Europe\n",
      "1          2                Americas\n",
      "2          3                    Asia\n",
      "3          4  Middle East and Africa\n"
     ]
    }
   ],
   "source": [
    "import pandas as pd\n",
    "\n",
    "def main():\n",
    "    # Đọc file CSV (đảm bảo đường dẫn/trùng tên file với file thực tế)\n",
    "    df = pd.read_csv(r'D:\\lập trình python nâng cao\\Chương5\\region.csv')\n",
    "\n",
    "    # Hiển thị toàn bộ dữ liệu\n",
    "    print(df)\n",
    "\n",
    "if __name__ == '__main__':\n",
    "    main()\n"
   ]
  }
 ],
 "metadata": {
  "kernelspec": {
   "display_name": "base",
   "language": "python",
   "name": "python3"
  },
  "language_info": {
   "codemirror_mode": {
    "name": "ipython",
    "version": 3
   },
   "file_extension": ".py",
   "mimetype": "text/x-python",
   "name": "python",
   "nbconvert_exporter": "python",
   "pygments_lexer": "ipython3",
   "version": "3.12.7"
  }
 },
 "nbformat": 4,
 "nbformat_minor": 2
}
