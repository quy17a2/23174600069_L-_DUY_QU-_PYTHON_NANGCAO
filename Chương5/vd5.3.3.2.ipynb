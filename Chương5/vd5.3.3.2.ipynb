{
 "cells": [
  {
   "cell_type": "markdown",
   "metadata": {},
   "source": [
    "vd 5.3.3.2"
   ]
  },
  {
   "cell_type": "code",
   "execution_count": 1,
   "metadata": {},
   "outputs": [
    {
     "ename": "OperationalError",
     "evalue": "no such table: sales",
     "output_type": "error",
     "traceback": [
      "\u001b[1;31m---------------------------------------------------------------------------\u001b[0m",
      "\u001b[1;31mOperationalError\u001b[0m                          Traceback (most recent call last)",
      "Cell \u001b[1;32mIn[1], line 5\u001b[0m\n\u001b[0;32m      3\u001b[0m conn \u001b[38;5;241m=\u001b[39m sqlite3\u001b[38;5;241m.\u001b[39mconnect(\u001b[38;5;124m'\u001b[39m\u001b[38;5;124msales.db\u001b[39m\u001b[38;5;124m'\u001b[39m)\n\u001b[0;32m      4\u001b[0m cursor \u001b[38;5;241m=\u001b[39m conn\u001b[38;5;241m.\u001b[39mcursor()\n\u001b[1;32m----> 5\u001b[0m cursor\u001b[38;5;241m.\u001b[39mexecute(\u001b[38;5;124m\"\u001b[39m\u001b[38;5;124mSELECT year, revenue FROM sales\u001b[39m\u001b[38;5;124m\"\u001b[39m)\n\u001b[0;32m      6\u001b[0m rows \u001b[38;5;241m=\u001b[39m cursor\u001b[38;5;241m.\u001b[39mfetchall()\n\u001b[0;32m      7\u001b[0m years \u001b[38;5;241m=\u001b[39m [row[\u001b[38;5;241m0\u001b[39m] \u001b[38;5;28;01mfor\u001b[39;00m row \u001b[38;5;129;01min\u001b[39;00m rows]\n",
      "\u001b[1;31mOperationalError\u001b[0m: no such table: sales"
     ]
    }
   ],
   "source": [
    "import sqlite3\n",
    "import matplotlib.pyplot as pyplot\n",
    "conn = sqlite3.connect('sales.db')\n",
    "cursor = conn.cursor()\n",
    "cursor.execute(\"SELECT year, revenue FROM sales\")\n",
    "rows = cursor.fetchall()\n",
    "years = [row[0] for row in rows]\n",
    "revenues = [row[1] for row in rows]\n",
    "conn.close()\n",
    "plt.plot(years, revenues, marker='o',linestyle='-')\n",
    "plt.ylabel('Các năm')\n",
    "plt.ylabel('Doanh thu(đơn vị:tỷ đồng)')\n",
    "plt.title('Biểu đồ biểu diễn doanh thu theo năm')\n",
    "plt.legend(['Doanh thu theo năm'])\n",
    "plt.grid(True)\n",
    "plt.show()"
   ]
  }
 ],
 "metadata": {
  "kernelspec": {
   "display_name": "base",
   "language": "python",
   "name": "python3"
  },
  "language_info": {
   "codemirror_mode": {
    "name": "ipython",
    "version": 3
   },
   "file_extension": ".py",
   "mimetype": "text/x-python",
   "name": "python",
   "nbconvert_exporter": "python",
   "pygments_lexer": "ipython3",
   "version": "3.12.7"
  }
 },
 "nbformat": 4,
 "nbformat_minor": 2
}
