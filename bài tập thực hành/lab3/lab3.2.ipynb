{
 "cells": [
  {
   "cell_type": "code",
   "execution_count": 5,
   "metadata": {},
   "outputs": [
    {
     "name": "stdout",
     "output_type": "stream",
     "text": [
      "Số lượng giá trị null trong mỗi cột:\n",
      "date      0\n",
      "symbol    0\n",
      "open      0\n",
      "high      2\n",
      "low       2\n",
      "close     0\n",
      "volume    0\n",
      "dtype: int64\n",
      "\n",
      "Thông tin tổng quan sau khi thay thế dữ liệu Null:\n",
      "<class 'pandas.core.frame.DataFrame'>\n",
      "RangeIndex: 15 entries, 0 to 14\n",
      "Data columns (total 7 columns):\n",
      " #   Column  Non-Null Count  Dtype  \n",
      "---  ------  --------------  -----  \n",
      " 0   date    15 non-null     object \n",
      " 1   symbol  15 non-null     object \n",
      " 2   open    15 non-null     float64\n",
      " 3   high    15 non-null     float64\n",
      " 4   low     15 non-null     float64\n",
      " 5   close   15 non-null     float64\n",
      " 6   volume  15 non-null     int64  \n",
      "dtypes: float64(4), int64(1), object(2)\n",
      "memory usage: 972.0+ bytes\n",
      "None\n"
     ]
    },
    {
     "name": "stderr",
     "output_type": "stream",
     "text": [
      "C:\\Users\\e14\\AppData\\Local\\Temp\\ipykernel_2512\\2432204440.py:6: FutureWarning: A value is trying to be set on a copy of a DataFrame or Series through chained assignment using an inplace method.\n",
      "The behavior will change in pandas 3.0. This inplace method will never work because the intermediate object on which we are setting values always behaves as a copy.\n",
      "\n",
      "For example, when doing 'df[col].method(value, inplace=True)', try using 'df.method({col: value}, inplace=True)' or df[col] = df[col].method(value) instead, to perform the operation inplace on the original object.\n",
      "\n",
      "\n",
      "  stocks1['high'].fillna(mean_high, inplace=True)\n",
      "C:\\Users\\e14\\AppData\\Local\\Temp\\ipykernel_2512\\2432204440.py:9: FutureWarning: A value is trying to be set on a copy of a DataFrame or Series through chained assignment using an inplace method.\n",
      "The behavior will change in pandas 3.0. This inplace method will never work because the intermediate object on which we are setting values always behaves as a copy.\n",
      "\n",
      "For example, when doing 'df[col].method(value, inplace=True)', try using 'df.method({col: value}, inplace=True)' or df[col] = df[col].method(value) instead, to perform the operation inplace on the original object.\n",
      "\n",
      "\n",
      "  stocks1['low'].fillna(mean_low, inplace=True)\n"
     ]
    }
   ],
   "source": [
    "import pandas as pd\n",
    "stocks1 = pd.read_csv(r'D:\\bài tập thực hành\\lab3\\stocks1.csv')\n",
    "print(\"Số lượng giá trị null trong mỗi cột:\")\n",
    "print(stocks1.isnull().sum())\n",
    "mean_high = stocks1['high'].mean(skipna=True) \n",
    "stocks1['high'].fillna(mean_high, inplace=True)\n",
    "\n",
    "mean_low = stocks1['low'].mean(skipna=True)  \n",
    "stocks1['low'].fillna(mean_low, inplace=True)\n",
    "print(\"\\nThông tin tổng quan sau khi thay thế dữ liệu Null:\")\n",
    "print(stocks1.info())\n",
    "\n"
   ]
  },
  {
   "cell_type": "code",
   "execution_count": 15,
   "metadata": {},
   "outputs": [
    {
     "name": "stdout",
     "output_type": "stream",
     "text": [
      "       date symbol     open         high          low    close   volume  \\\n",
      "0  01-03-19   AMZN  1655.13  1674.260000  1651.000000  1671.73  4974877   \n",
      "1  04-03-19   AMZN  1685.00  1709.430000  1674.360000  1696.17  6167358   \n",
      "2  05-03-19   AMZN  1702.95  1707.800000  1689.010000  1692.43  3681522   \n",
      "3  06-03-19   AMZN  1695.97   943.511538   926.775385  1668.95  3996001   \n",
      "4  07-03-19   AMZN  1667.37  1669.750000  1620.510000  1625.95  4957017   \n",
      "\n",
      "       average  \n",
      "0  1663.030000  \n",
      "1  1691.240000  \n",
      "2  1698.047500  \n",
      "3  1308.801731  \n",
      "4  1645.895000  \n",
      "            AAPL     AMZN      FB     GOOG    TSLA  total_volume\n",
      "date                                                            \n",
      "01-03-19  174.97  1671.73  162.28  1140.99  294.79           NaN\n",
      "04-03-19  175.85  1696.17  167.37  1147.80  285.36           NaN\n",
      "05-03-19  175.53  1692.43  171.26  1162.03  276.54           NaN\n",
      "06-03-19  174.52  1668.95  172.51  1157.86  276.24           NaN\n",
      "07-03-19  172.50  1625.95  169.13  1143.30  276.59           NaN\n"
     ]
    }
   ],
   "source": [
    "import pandas as pd\n",
    "stocks2 = pd.read_csv('stocks2.csv')\n",
    "stocks = pd.concat([stocks1, stocks2], ignore_index=True)\n",
    "stocks['average'] = stocks[['open', 'high', 'low', 'close']].mean(axis=1)\n",
    "print(stocks.head())\n"
   ]
  },
  {
   "cell_type": "markdown",
   "metadata": {},
   "source": [
    "LAB3.2.4"
   ]
  },
  {
   "cell_type": "code",
   "execution_count": 9,
   "metadata": {},
   "outputs": [
    {
     "name": "stdout",
     "output_type": "stream",
     "text": [
      "5 dòng đầu tiên của companies:\n",
      "   name  employees headquarters_city headquarters_state\n",
      "0  AMZN     613300           Seattle                 WA\n",
      "1  GOOG      98771     Mountain View                 CA\n",
      "2  AAPL     132000         Cupertino                 CA\n",
      "3    FB      48268        Menlo Park                 CA\n",
      "4  TSLA      48016         Palo Alto                 CA\n",
      "\n",
      "Giá đóng cửa trung bình cho mỗi công ty:\n",
      "   name     close\n",
      "0  AAPL   174.674\n",
      "1  AMZN  1671.046\n",
      "2    FB   168.510\n",
      "3  GOOG  1150.396\n",
      "4  TSLA   281.904\n"
     ]
    }
   ],
   "source": [
    "import pandas as pd\n",
    "companies = pd.read_csv(r'D:\\bài tập thực hành\\lab3\\companies.csv')\n",
    "print(\"5 dòng đầu tiên của companies:\")\n",
    "print(companies.head())\n",
    "merged_data = pd.merge(stocks, companies, left_on='symbol', right_on='name', how='inner')\n",
    "avg_close_per_company = merged_data.groupby('name')['close'].mean().reset_index()\n",
    "print(\"\\nGiá đóng cửa trung bình cho mỗi công ty:\")\n",
    "print(avg_close_per_company.head())\n"
   ]
  },
  {
   "cell_type": "markdown",
   "metadata": {},
   "source": [
    "LAB3.2.5\n"
   ]
  },
  {
   "cell_type": "code",
   "execution_count": 10,
   "metadata": {},
   "outputs": [
    {
     "name": "stdout",
     "output_type": "stream",
     "text": [
      "       date symbol     open      high      low    close      volume\n",
      "0  01-03-19   AAPL   174.28   175.150   172.89   174.97  25886167.0\n",
      "1  01-03-19   AMZN  1655.13  1674.260  1651.00  1671.73   4974877.0\n",
      "2  01-03-19     FB   162.60   163.132   161.69   162.28  11097770.0\n",
      "3  01-03-19   GOOG  1124.90  1142.970  1124.75  1140.99   1450316.0\n",
      "4  01-03-19   TSLA   306.94   307.130   291.90   294.79  22911375.0\n"
     ]
    }
   ],
   "source": [
    "import pandas as pd\n",
    "stocks.set_index(['date', 'symbol'], inplace=True)\n",
    "avg_stock_data = stocks.groupby(['date', 'symbol']).agg({\n",
    "    'open': 'mean',\n",
    "    'high': 'mean',\n",
    "    'low': 'mean',\n",
    "    'close': 'mean',\n",
    "    'volume': 'mean'\n",
    "}).reset_index()\n",
    "avg_stock_data.sort_values(by=['date', 'symbol'], inplace=True)\n",
    "print(avg_stock_data.head())\n"
   ]
  },
  {
   "cell_type": "markdown",
   "metadata": {},
   "source": [
    "LAB3.2.6\n"
   ]
  },
  {
   "cell_type": "code",
   "execution_count": 16,
   "metadata": {},
   "outputs": [
    {
     "name": "stdout",
     "output_type": "stream",
     "text": [
      "       date symbol     open         high          low    close   volume  \\\n",
      "0  01-03-19   AMZN  1655.13  1674.260000  1651.000000  1671.73  4974877   \n",
      "1  04-03-19   AMZN  1685.00  1709.430000  1674.360000  1696.17  6167358   \n",
      "2  05-03-19   AMZN  1702.95  1707.800000  1689.010000  1692.43  3681522   \n",
      "3  06-03-19   AMZN  1695.97   943.511538   926.775385  1668.95  3996001   \n",
      "4  07-03-19   AMZN  1667.37  1669.750000  1620.510000  1625.95  4957017   \n",
      "\n",
      "       average  \n",
      "0  1663.030000  \n",
      "1  1691.240000  \n",
      "2  1698.047500  \n",
      "3  1308.801731  \n",
      "4  1645.895000  \n",
      "            AAPL     AMZN      FB     GOOG    TSLA  total_volume\n",
      "date                                                            \n",
      "01-03-19  174.97  1671.73  162.28  1140.99  294.79           NaN\n",
      "04-03-19  175.85  1696.17  167.37  1147.80  285.36           NaN\n",
      "05-03-19  175.53  1692.43  171.26  1162.03  276.54           NaN\n",
      "06-03-19  174.52  1668.95  172.51  1157.86  276.24           NaN\n",
      "07-03-19  172.50  1625.95  169.13  1143.30  276.59           NaN\n"
     ]
    }
   ],
   "source": [
    "stocks2 = pd.read_csv('stocks2.csv')\n",
    "stocks = pd.concat([stocks1, stocks2], ignore_index=True)\n",
    "stocks['average'] = stocks[['open', 'high', 'low', 'close']].mean(axis=1)\n",
    "print(stocks.head())\n",
    "pivot_table = stocks.pivot_table(\n",
    "    values='close', \n",
    "    index='date', \n",
    "    columns='symbol', \n",
    "    aggfunc='mean'\n",
    ")\n",
    "volume_total = stocks.groupby('symbol')['volume'].sum()\n",
    "\n",
    "\n",
    "pivot_table = pivot_table.join(volume_total, how='left')\n",
    "\n",
    "\n",
    "pivot_table.rename(columns={'volume': 'total_volume'}, inplace=True)\n",
    "\n",
    "\n",
    "pivot_table_sorted = pivot_table.sort_values(by='total_volume', ascending=False)\n",
    "\n",
    "print(pivot_table_sorted.head())"
   ]
  }
 ],
 "metadata": {
  "kernelspec": {
   "display_name": "base",
   "language": "python",
   "name": "python3"
  },
  "language_info": {
   "codemirror_mode": {
    "name": "ipython",
    "version": 3
   },
   "file_extension": ".py",
   "mimetype": "text/x-python",
   "name": "python",
   "nbconvert_exporter": "python",
   "pygments_lexer": "ipython3",
   "version": "3.12.7"
  }
 },
 "nbformat": 4,
 "nbformat_minor": 2
}
