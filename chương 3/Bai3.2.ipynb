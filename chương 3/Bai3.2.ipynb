{
 "cells": [
  {
   "cell_type": "markdown",
   "metadata": {},
   "source": [
    "Bai:1"
   ]
  },
  {
   "cell_type": "code",
   "execution_count": 1,
   "metadata": {},
   "outputs": [
    {
     "name": "stdout",
     "output_type": "stream",
     "text": [
      "Mảng arr: [0 1 2 3 4 5 6 7 8 9]\n",
      "Kiểu dữ liệu của arr: int64\n",
      "Kích thước của arr: (10,)\n"
     ]
    }
   ],
   "source": [
    "import numpy as np\n",
    "\n",
    "arr = np.arange(10)\n",
    "\n",
    "# Hiển thị các phần tử, kiểu dữ liệu và kích thước của arr\n",
    "print(\"Mảng arr:\", arr)\n",
    "print(\"Kiểu dữ liệu của arr:\", arr.dtype)\n",
    "print(\"Kích thước của arr:\", arr.shape)\n"
   ]
  },
  {
   "cell_type": "markdown",
   "metadata": {},
   "source": [
    "Bài 2\n"
   ]
  },
  {
   "cell_type": "code",
   "execution_count": 3,
   "metadata": {},
   "outputs": [
    {
     "name": "stdout",
     "output_type": "stream",
     "text": [
      "Mảng arr: [0 1 2 3 4 5 6 7 8 9]\n",
      "Kiểu dữ liệu của arr: int64\n",
      "Kích thước của arr: (10,)\n",
      "Mảng các số lẻ (arr_odd): [1 3 5 7 9]\n",
      "Mảng các số chẵn (arr_even): [0 2 4 6 8]\n"
     ]
    }
   ],
   "source": [
    "import numpy as np\n",
    "\n",
    "arr = np.arange(10)\n",
    "\n",
    "print(\"Mảng arr:\", arr)\n",
    "print(\"Kiểu dữ liệu của arr:\", arr.dtype)\n",
    "print(\"Kích thước của arr:\", arr.shape)\n",
    "\n",
    "# Tạo array chứa các số lẻ từ arr\n",
    "arr_odd = arr[arr % 2 != 0]\n",
    "\n",
    "# Tạo array chứa các số chẵn từ arr\n",
    "arr_even = arr[arr % 2 == 0]\n",
    "\n",
    "# Hiển thị kết quả\n",
    "print(\"Mảng các số lẻ (arr_odd):\", arr_odd)\n",
    "print(\"Mảng các số chẵn (arr_even):\", arr_even)\n"
   ]
  },
  {
   "cell_type": "markdown",
   "metadata": {},
   "source": [
    "Bài 3\n"
   ]
  },
  {
   "cell_type": "code",
   "execution_count": 2,
   "metadata": {},
   "outputs": [
    {
     "name": "stdout",
     "output_type": "stream",
     "text": [
      "Mảng đã cập nhật là: [  0 100   2 100   4 100   6 100   8 100]\n"
     ]
    }
   ],
   "source": [
    "arr_update_1=np.where(arr%2==0,arr,100)\n",
    "print(\"Mảng đã cập nhật là:\",arr_update_1)"
   ]
  }
 ],
 "metadata": {
  "kernelspec": {
   "display_name": "Python 3",
   "language": "python",
   "name": "python3"
  },
  "language_info": {
   "codemirror_mode": {
    "name": "ipython",
    "version": 3
   },
   "file_extension": ".py",
   "mimetype": "text/x-python",
   "name": "python",
   "nbconvert_exporter": "python",
   "pygments_lexer": "ipython3",
   "version": "3.13.1"
  }
 },
 "nbformat": 4,
 "nbformat_minor": 2
}
