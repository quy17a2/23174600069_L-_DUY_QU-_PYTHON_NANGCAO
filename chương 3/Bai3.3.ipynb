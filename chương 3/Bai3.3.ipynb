{
 "cells": [
  {
   "cell_type": "code",
   "execution_count": 1,
   "metadata": {},
   "outputs": [],
   "source": [
    "import numpy as np"
   ]
  },
  {
   "cell_type": "code",
   "execution_count": 2,
   "metadata": {},
   "outputs": [],
   "source": [
    "arr_a=[1,2,3,2,3,4,3,4,5,6]\n",
    "arr_b=[7,2,10,2,7,4,9,4,9,8]"
   ]
  },
  {
   "cell_type": "markdown",
   "metadata": {},
   "source": [
    "Bài 1"
   ]
  },
  {
   "cell_type": "code",
   "execution_count": 3,
   "metadata": {},
   "outputs": [
    {
     "name": "stdout",
     "output_type": "stream",
     "text": [
      "mảng chứa các phần tử xuất hiện ở cả arr_a và arr_b là: [2 4]\n"
     ]
    }
   ],
   "source": [
    "arr_c=np.intersect1d(arr_a,arr_b)\n",
    "print(\"mảng chứa các phần tử xuất hiện ở cả arr_a và arr_b là:\",arr_c)\n"
   ]
  },
  {
   "cell_type": "markdown",
   "metadata": {},
   "source": [
    "Bài 2\n"
   ]
  },
  {
   "cell_type": "code",
   "execution_count": 4,
   "metadata": {},
   "outputs": [
    {
     "name": "stdout",
     "output_type": "stream",
     "text": [
      "Mảng chỉ chứa các ptu xuất hiện ở arr_a [1 3 5 6]\n"
     ]
    }
   ],
   "source": [
    "arr_d=np.setdiff1d(arr_a,arr_b)\n",
    "print(\"Mảng chỉ chứa các ptu xuất hiện ở arr_a\",arr_d)\n"
   ]
  }
 ],
 "metadata": {
  "kernelspec": {
   "display_name": "Python 3",
   "language": "python",
   "name": "python3"
  },
  "language_info": {
   "codemirror_mode": {
    "name": "ipython",
    "version": 3
   },
   "file_extension": ".py",
   "mimetype": "text/x-python",
   "name": "python",
   "nbconvert_exporter": "python",
   "pygments_lexer": "ipython3",
   "version": "3.13.1"
  }
 },
 "nbformat": 4,
 "nbformat_minor": 2
}
