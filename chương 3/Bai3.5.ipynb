{
 "cells": [
  {
   "cell_type": "code",
   "execution_count": 1,
   "metadata": {},
   "outputs": [],
   "source": [
    "import numpy as np\n",
    "import os"
   ]
  },
  {
   "cell_type": "markdown",
   "metadata": {},
   "source": [
    "Bài 1,2,3\n"
   ]
  },
  {
   "cell_type": "code",
   "execution_count": 2,
   "metadata": {},
   "outputs": [
    {
     "name": "stdout",
     "output_type": "stream",
     "text": [
      "chiều cao:  [74. 74. 72. ... 75. 75. 73.]\n",
      "Cân nặng: [180. 215. 210. ... 205. 190. 195.]\n",
      "Mảng sau khi quy đổi là: [1.8796 1.8796 1.8288 ... 1.905  1.905  1.8542]\n"
     ]
    }
   ],
   "source": [
    "path=os.getcwd()\n",
    "arr_height=np.loadtxt(path+r'\\heights_1.txt',delimiter=',',encoding='utf-8-sig')\n",
    "arr_weight=np.loadtxt(path+r'\\weights_1.txt',delimiter=',',encoding='utf-8-sig')\n",
    "print(\"chiều cao: \",arr_height)\n",
    "print(\"Cân nặng:\",arr_weight)\n",
    "arr_height_m=arr_height*0.0254\n",
    "print(\"Mảng sau khi quy đổi là:\",arr_height_m)"
   ]
  },
  {
   "cell_type": "markdown",
   "metadata": {},
   "source": [
    "Bài 4,5\n"
   ]
  },
  {
   "cell_type": "code",
   "execution_count": 6,
   "metadata": {},
   "outputs": [
    {
     "name": "stdout",
     "output_type": "stream",
     "text": [
      "Mảng sau khi thay đổi là: [81.64656 97.52228 95.25432 ... 92.98636 86.18248 88.45044]\n",
      "Mảng sau khi tính BMI là: [23.11037639 27.60406069 28.48080465 ... 25.62295933 23.74810865\n",
      " 25.72686361]\n"
     ]
    }
   ],
   "source": [
    "arr_weight_kg=arr_weight*0.453592\n",
    "print(\"Mảng sau khi thay đổi là:\",arr_weight_kg)\n",
    "BMI=arr_weight_kg/(arr_height_m*arr_height_m)\n",
    "print(\"Mảng sau khi tính BMI là:\",BMI)\n"
   ]
  },
  {
   "cell_type": "markdown",
   "metadata": {},
   "source": [
    "Bài 6,7,8,9,10,11"
   ]
  },
  {
   "cell_type": "code",
   "execution_count": 8,
   "metadata": {},
   "outputs": [
    {
     "name": "stdout",
     "output_type": "stream",
     "text": [
      "mảng mới tạo là: [1.8542 1.8796 1.8288 1.8542 1.7526 1.8288 1.8542 1.905  1.905  1.8542\n",
      " 1.8288]\n",
      "Mảng khi bmi<21 là: [20.54255679 20.54255679 20.69282047 20.69282047 20.34343189 20.34343189\n",
      " 20.69282047 20.15883472 19.4984471  20.69282047 20.9205219 ]\n",
      "Mảng khi bmi<21 là: [20.54255679 20.54255679 20.69282047 20.69282047 20.34343189 20.34343189\n",
      " 20.69282047 20.15883472 19.4984471  20.69282047 20.9205219 ]\n",
      "chiều cao trung bình là:1.87 m\n",
      "cân nặng trung bình là: 91.33 kg\n",
      "chiều cao lớn nhất là:2.11m\n",
      "Cân nặng lớn nhất là:131.54kg\n",
      "chiều cao nhỏ nhất là:1.70m\n",
      "Cân nặng nhỏ nhất là:68.04kg\n"
     ]
    }
   ],
   "source": [
    "arr_height_m_100=arr_height_m[100:111]\n",
    "print(\"mảng mới tạo là:\",arr_height_m_100)\n",
    "###\n",
    "arr_bmi=BMI[(BMI<21)]\n",
    "print(\"Mảng khi bmi<21 là:\",arr_bmi)\n",
    "###\n",
    "arr_bmi=BMI[(BMI<21)]\n",
    "print(\"Mảng khi bmi<21 là:\",arr_bmi)\n",
    "###\n",
    "mean_height=np.mean(arr_height_m)\n",
    "mean_weight=np.mean(arr_weight_kg)\n",
    "print(f\"chiều cao trung bình là:{mean_height:.2f} m\")\n",
    "print(f\"cân nặng trung bình là: {mean_weight:.2f} kg\")\n",
    "###\n",
    "max_height=np.max(arr_height_m)\n",
    "max_weight=np.max(arr_weight_kg)\n",
    "print(f\"chiều cao lớn nhất là:{max_height:.2f}m\")\n",
    "print(f\"Cân nặng lớn nhất là:{max_weight:.2f}kg\")\n",
    "###\n",
    "min_height=np.min(arr_height_m)\n",
    "min_weight=np.min(arr_weight_kg)\n",
    "print(f\"chiều cao nhỏ nhất là:{min_height:.2f}m\")\n",
    "print(f\"Cân nặng nhỏ nhất là:{min_weight:.2f}kg\")\n",
    "\n",
    "\n"
   ]
  }
 ],
 "metadata": {
  "kernelspec": {
   "display_name": "Python 3",
   "language": "python",
   "name": "python3"
  },
  "language_info": {
   "codemirror_mode": {
    "name": "ipython",
    "version": 3
   },
   "file_extension": ".py",
   "mimetype": "text/x-python",
   "name": "python",
   "nbconvert_exporter": "python",
   "pygments_lexer": "ipython3",
   "version": "3.13.1"
  }
 },
 "nbformat": 4,
 "nbformat_minor": 2
}
