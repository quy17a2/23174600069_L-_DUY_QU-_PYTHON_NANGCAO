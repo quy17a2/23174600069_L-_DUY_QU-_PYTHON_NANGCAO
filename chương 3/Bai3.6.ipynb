{
 "cells": [
  {
   "cell_type": "code",
   "execution_count": 1,
   "metadata": {},
   "outputs": [],
   "source": [
    "import numpy as np"
   ]
  },
  {
   "cell_type": "markdown",
   "metadata": {},
   "source": [
    "Bài 1\n"
   ]
  },
  {
   "cell_type": "code",
   "execution_count": 3,
   "metadata": {},
   "outputs": [
    {
     "name": "stdout",
     "output_type": "stream",
     "text": [
      "Mảng arr với các giá trị True: \n",
      "[[ True  True  True]\n",
      " [ True  True  True]\n",
      " [ True  True  True]]\n"
     ]
    }
   ],
   "source": [
    "arr=np.ones((3,3),dtype=bool)\n",
    "print(\"Mảng arr với các giá trị True: \")\n",
    "print(arr)"
   ]
  },
  {
   "cell_type": "markdown",
   "metadata": {},
   "source": [
    "Bài 2,3,4,5\n"
   ]
  },
  {
   "cell_type": "code",
   "execution_count": 5,
   "metadata": {},
   "outputs": [
    {
     "name": "stdout",
     "output_type": "stream",
     "text": [
      "Mảng sau khi đổi là:\n",
      "[[2 1 0]\n",
      " [5 4 3]\n",
      " [8 7 6]]\n",
      "Mảng sau khi đổi dòng là:\n",
      "[[5 4 3]\n",
      " [2 1 0]\n",
      " [8 7 6]]\n",
      "Mảng 2D sau đảo ngược các dòng:\n",
      "[[8 7 6]\n",
      " [2 1 0]\n",
      " [5 4 3]]\n",
      "Mảng 2D sao khi đảo ngược các cột là:\n",
      "[[6 7 8]\n",
      " [0 1 2]\n",
      " [3 4 5]]\n"
     ]
    }
   ],
   "source": [
    "arr_1D=np.array([0,1,2,3,4,5,6,7,8])\n",
    "arr_2D=arr_1D.reshape(3,3)\n",
    "arr_2D[:,[0,2]]=arr_2D[:,[2,0]]\n",
    "print(\"Mảng sau khi đổi là:\")\n",
    "print(arr_2D)\n",
    "###\n",
    "arr_2D[[0,1]]=arr_2D[[1,0]]\n",
    "print(\"Mảng sau khi đổi dòng là:\")\n",
    "print(arr_2D)\n",
    "###\n",
    "arr_2D_dao_nguoc=arr_2D[::-1]\n",
    "print(\"Mảng 2D sau đảo ngược các dòng:\")\n",
    "print(arr_2D_dao_nguoc)\n",
    "###\n",
    "arr_2D_dao_nguoc_cot=arr_2D_dao_nguoc[:,::-1]\n",
    "print(\"Mảng 2D sao khi đảo ngược các cột là:\")\n",
    "print(arr_2D_dao_nguoc_cot)\n",
    "\n"
   ]
  },
  {
   "cell_type": "markdown",
   "metadata": {},
   "source": [
    "Bài 6,7"
   ]
  },
  {
   "cell_type": "code",
   "execution_count": 6,
   "metadata": {},
   "outputs": [
    {
     "name": "stdout",
     "output_type": "stream",
     "text": [
      "mảng có chứa giá trị NaN\n",
      "Mảng sau khi thay thế là:\n",
      "[[1. 2. 3.]\n",
      " [0. 5. 6.]\n",
      " [7. 0. 9.]\n",
      " [4. 5. 6.]]\n"
     ]
    }
   ],
   "source": [
    "arr_2D_null=np.array([[1,2,3],\n",
    "                      [np.nan,5,6],\n",
    "                      [7,np.nan,9],\n",
    "                      [4,5,6]])\n",
    "gia_tri_rong=np.any(np.isnan(arr_2D_null))\n",
    "if gia_tri_rong:\n",
    "    print(\"mảng có chứa giá trị NaN\")\n",
    "else:\n",
    "    print(\"Mảng không có giá trị NaN\")    \n",
    "###\n",
    "arr_2D_null[np.isnan(arr_2D_null)]=0\n",
    "print(\"Mảng sau khi thay thế là:\")\n",
    "print(arr_2D_null)"
   ]
  }
 ],
 "metadata": {
  "kernelspec": {
   "display_name": "Python 3",
   "language": "python",
   "name": "python3"
  },
  "language_info": {
   "codemirror_mode": {
    "name": "ipython",
    "version": 3
   },
   "file_extension": ".py",
   "mimetype": "text/x-python",
   "name": "python",
   "nbconvert_exporter": "python",
   "pygments_lexer": "ipython3",
   "version": "3.13.1"
  }
 },
 "nbformat": 4,
 "nbformat_minor": 2
}
