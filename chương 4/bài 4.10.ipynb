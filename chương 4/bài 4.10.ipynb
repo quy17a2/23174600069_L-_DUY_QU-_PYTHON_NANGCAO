{
 "cells": [
  {
   "cell_type": "code",
   "execution_count": 1,
   "metadata": {},
   "outputs": [],
   "source": [
    "import numpy as np\n",
    "import pandas as pd\n",
    "\n"
   ]
  },
  {
   "cell_type": "code",
   "execution_count": 2,
   "metadata": {},
   "outputs": [],
   "source": [
    "\n",
    "ser = pd.Series(np.random.randint(1, 10, 7))\n",
    "\n",
    "\n"
   ]
  },
  {
   "cell_type": "code",
   "execution_count": 3,
   "metadata": {},
   "outputs": [],
   "source": [
    "\n",
    "multiples_of_3_positions = ser.index[ser % 3 == 0].tolist()\n"
   ]
  },
  {
   "cell_type": "code",
   "execution_count": 4,
   "metadata": {},
   "outputs": [
    {
     "name": "stdout",
     "output_type": "stream",
     "text": [
      "Series ban đầu:\n",
      "0    8\n",
      "1    1\n",
      "2    7\n",
      "3    7\n",
      "4    8\n",
      "5    3\n",
      "6    1\n",
      "dtype: int32\n",
      "\n",
      "Vị trí của các số là bội của 3:\n",
      "[5]\n"
     ]
    }
   ],
   "source": [
    "\n",
    "print(\"Series ban đầu:\")\n",
    "print(ser)\n",
    "\n",
    "print(\"\\nVị trí của các số là bội của 3:\")\n",
    "print(multiples_of_3_positions)\n"
   ]
  }
 ],
 "metadata": {
  "kernelspec": {
   "display_name": "Python 3",
   "language": "python",
   "name": "python3"
  },
  "language_info": {
   "codemirror_mode": {
    "name": "ipython",
    "version": 3
   },
   "file_extension": ".py",
   "mimetype": "text/x-python",
   "name": "python",
   "nbconvert_exporter": "python",
   "pygments_lexer": "ipython3",
   "version": "3.13.1"
  }
 },
 "nbformat": 4,
 "nbformat_minor": 2
}
