{
 "cells": [
  {
   "cell_type": "code",
   "execution_count": 2,
   "metadata": {},
   "outputs": [],
   "source": [
    "import numpy as np\n",
    "import pandas as pd\n"
   ]
  },
  {
   "cell_type": "code",
   "execution_count": 3,
   "metadata": {},
   "outputs": [],
   "source": [
    "ser = pd.Series(np.random.randint(1, 10, 7))"
   ]
  },
  {
   "cell_type": "code",
   "execution_count": 4,
   "metadata": {},
   "outputs": [],
   "source": [
    "max_value = ser.max()\n",
    "min_value = ser.min()"
   ]
  },
  {
   "cell_type": "code",
   "execution_count": 5,
   "metadata": {},
   "outputs": [],
   "source": [
    "mean_value = ser.mean()\n"
   ]
  },
  {
   "cell_type": "code",
   "execution_count": 6,
   "metadata": {},
   "outputs": [
    {
     "name": "stdout",
     "output_type": "stream",
     "text": [
      "Series ban đầu:\n",
      "0    2\n",
      "1    7\n",
      "2    5\n",
      "3    4\n",
      "4    8\n",
      "5    3\n",
      "6    7\n",
      "dtype: int32\n",
      "\n",
      "Giá trị lớn nhất trong Series: 8\n",
      "Giá trị nhỏ nhất trong Series: 2\n",
      "Giá trị trung bình trong Series: 5.142857142857143\n"
     ]
    }
   ],
   "source": [
    "print(\"Series ban đầu:\")\n",
    "print(ser)\n",
    "\n",
    "print(\"\\nGiá trị lớn nhất trong Series:\", max_value)\n",
    "print(\"Giá trị nhỏ nhất trong Series:\", min_value)\n",
    "print(\"Giá trị trung bình trong Series:\", mean_value)"
   ]
  }
 ],
 "metadata": {
  "kernelspec": {
   "display_name": "Python 3",
   "language": "python",
   "name": "python3"
  },
  "language_info": {
   "codemirror_mode": {
    "name": "ipython",
    "version": 3
   },
   "file_extension": ".py",
   "mimetype": "text/x-python",
   "name": "python",
   "nbconvert_exporter": "python",
   "pygments_lexer": "ipython3",
   "version": "3.13.1"
  }
 },
 "nbformat": 4,
 "nbformat_minor": 2
}
