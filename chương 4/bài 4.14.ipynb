{
 "cells": [
  {
   "cell_type": "code",
   "execution_count": 1,
   "metadata": {},
   "outputs": [],
   "source": [
    "import numpy as np\n",
    "import pandas as pd\n"
   ]
  },
  {
   "cell_type": "code",
   "execution_count": 2,
   "metadata": {},
   "outputs": [],
   "source": [
    "ser = pd.Series(np.random.randint(1, 10, 7))\n"
   ]
  },
  {
   "cell_type": "code",
   "execution_count": 3,
   "metadata": {},
   "outputs": [],
   "source": [
    "ser_unique = ser.drop_duplicates()\n"
   ]
  },
  {
   "cell_type": "code",
   "execution_count": 4,
   "metadata": {},
   "outputs": [
    {
     "name": "stdout",
     "output_type": "stream",
     "text": [
      "Series ban đầu:\n",
      "0    9\n",
      "1    2\n",
      "2    3\n",
      "3    3\n",
      "4    2\n",
      "5    8\n",
      "6    8\n",
      "dtype: int32\n",
      "\n",
      "Series sau khi xóa giá trị trùng lặp:\n",
      "0    9\n",
      "1    2\n",
      "2    3\n",
      "5    8\n",
      "dtype: int32\n"
     ]
    }
   ],
   "source": [
    "print(\"Series ban đầu:\")\n",
    "print(ser)\n",
    "\n",
    "print(\"\\nSeries sau khi xóa giá trị trùng lặp:\")\n",
    "print(ser_unique)"
   ]
  }
 ],
 "metadata": {
  "kernelspec": {
   "display_name": "Python 3",
   "language": "python",
   "name": "python3"
  },
  "language_info": {
   "codemirror_mode": {
    "name": "ipython",
    "version": 3
   },
   "file_extension": ".py",
   "mimetype": "text/x-python",
   "name": "python",
   "nbconvert_exporter": "python",
   "pygments_lexer": "ipython3",
   "version": "3.13.1"
  }
 },
 "nbformat": 4,
 "nbformat_minor": 2
}
