{
 "cells": [
  {
   "cell_type": "code",
   "execution_count": 1,
   "metadata": {},
   "outputs": [],
   "source": [
    "import numpy as np\n",
    "import pandas as pd\n"
   ]
  },
  {
   "cell_type": "code",
   "execution_count": 2,
   "metadata": {},
   "outputs": [],
   "source": [
    "ser = pd.Series(np.random.normal(10, 5, 25))\n"
   ]
  },
  {
   "cell_type": "code",
   "execution_count": 3,
   "metadata": {},
   "outputs": [
    {
     "name": "stdout",
     "output_type": "stream",
     "text": [
      "Giá trị tối thiểu: -3.9466912458649013\n"
     ]
    }
   ],
   "source": [
    "minimum = ser.min()\n",
    "print(\"Giá trị tối thiểu:\", minimum)\n"
   ]
  },
  {
   "cell_type": "code",
   "execution_count": 5,
   "metadata": {},
   "outputs": [
    {
     "name": "stdout",
     "output_type": "stream",
     "text": [
      "Giá trị phần trăm thứ 25: 7.3287885491981175\n"
     ]
    }
   ],
   "source": [
    "percentile_25 = ser.quantile(0.25)\n",
    "print(\"Giá trị phần trăm thứ 25:\", percentile_25)\n"
   ]
  },
  {
   "cell_type": "code",
   "execution_count": 6,
   "metadata": {},
   "outputs": [
    {
     "name": "stdout",
     "output_type": "stream",
     "text": [
      "Giá trị trung vị: 10.929031410519617\n"
     ]
    }
   ],
   "source": [
    "median = ser.median()\n",
    "print(\"Giá trị trung vị:\", median)\n"
   ]
  },
  {
   "cell_type": "code",
   "execution_count": 7,
   "metadata": {},
   "outputs": [
    {
     "name": "stdout",
     "output_type": "stream",
     "text": [
      "Giá trị phần trăm thứ 75: 15.837618872011014\n"
     ]
    }
   ],
   "source": [
    "percentile_75 = ser.quantile(0.75)\n",
    "print(\"Giá trị phần trăm thứ 75:\", percentile_75)\n"
   ]
  },
  {
   "cell_type": "code",
   "execution_count": 9,
   "metadata": {},
   "outputs": [
    {
     "name": "stdout",
     "output_type": "stream",
     "text": [
      "Giá trị tối đa: 19.771121139882524\n"
     ]
    }
   ],
   "source": [
    "maximum = ser.max()\n",
    "print(\"Giá trị tối đa:\", maximum)\n"
   ]
  }
 ],
 "metadata": {
  "kernelspec": {
   "display_name": "Python 3",
   "language": "python",
   "name": "python3"
  },
  "language_info": {
   "codemirror_mode": {
    "name": "ipython",
    "version": 3
   },
   "file_extension": ".py",
   "mimetype": "text/x-python",
   "name": "python",
   "nbconvert_exporter": "python",
   "pygments_lexer": "ipython3",
   "version": "3.13.1"
  }
 },
 "nbformat": 4,
 "nbformat_minor": 2
}
