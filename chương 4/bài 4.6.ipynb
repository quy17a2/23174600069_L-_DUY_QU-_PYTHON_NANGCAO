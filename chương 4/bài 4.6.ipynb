{
 "cells": [
  {
   "cell_type": "code",
   "execution_count": 1,
   "metadata": {},
   "outputs": [],
   "source": [
    "import numpy as np\n",
    "import pandas as pd\n"
   ]
  },
  {
   "cell_type": "code",
   "execution_count": 2,
   "metadata": {},
   "outputs": [],
   "source": [
    "ser = pd.Series(np.take(list('abcdefgh'), np.random.randint(8, size=30)))\n"
   ]
  },
  {
   "cell_type": "code",
   "execution_count": 3,
   "metadata": {},
   "outputs": [
    {
     "name": "stdout",
     "output_type": "stream",
     "text": [
      "Hai giá trị xuất hiện nhiều nhất: ['b', 'd']\n"
     ]
    }
   ],
   "source": [
    "top_2 = ser.value_counts().nlargest(2).index\n",
    "print(\"Hai giá trị xuất hiện nhiều nhất:\", top_2.tolist())\n"
   ]
  },
  {
   "cell_type": "code",
   "execution_count": 4,
   "metadata": {},
   "outputs": [
    {
     "name": "stdout",
     "output_type": "stream",
     "text": [
      "\n",
      "Series sau khi thay thế các giá trị còn lại bằng 'Other':\n",
      "0     Other\n",
      "1     Other\n",
      "2         d\n",
      "3         d\n",
      "4         b\n",
      "5     Other\n",
      "6     Other\n",
      "7     Other\n",
      "8         d\n",
      "9     Other\n",
      "10    Other\n",
      "11    Other\n",
      "12    Other\n",
      "13    Other\n",
      "14    Other\n",
      "15    Other\n",
      "16    Other\n",
      "17        b\n",
      "18    Other\n",
      "19        d\n",
      "20        d\n",
      "21        b\n",
      "22        b\n",
      "23        b\n",
      "24    Other\n",
      "25    Other\n",
      "26        b\n",
      "27    Other\n",
      "28        d\n",
      "29    Other\n",
      "dtype: object\n"
     ]
    }
   ],
   "source": [
    "ser_replaced = ser.where(ser.isin(top_2), other=\"Other\")\n",
    "print(\"\\nSeries sau khi thay thế các giá trị còn lại bằng 'Other':\")\n",
    "print(ser_replaced)\n"
   ]
  }
 ],
 "metadata": {
  "kernelspec": {
   "display_name": "Python 3",
   "language": "python",
   "name": "python3"
  },
  "language_info": {
   "codemirror_mode": {
    "name": "ipython",
    "version": 3
   },
   "file_extension": ".py",
   "mimetype": "text/x-python",
   "name": "python",
   "nbconvert_exporter": "python",
   "pygments_lexer": "ipython3",
   "version": "3.13.1"
  }
 },
 "nbformat": 4,
 "nbformat_minor": 2
}
