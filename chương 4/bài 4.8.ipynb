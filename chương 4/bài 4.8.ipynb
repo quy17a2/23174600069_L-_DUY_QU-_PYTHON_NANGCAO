{
 "cells": [
  {
   "cell_type": "code",
   "execution_count": 1,
   "metadata": {},
   "outputs": [],
   "source": [
    "import numpy as np\n",
    "import pandas as pd\n"
   ]
  },
  {
   "cell_type": "code",
   "execution_count": 2,
   "metadata": {},
   "outputs": [],
   "source": [
    "ser = pd.Series(np.random.random(20))\n"
   ]
  },
  {
   "cell_type": "code",
   "execution_count": 3,
   "metadata": {},
   "outputs": [],
   "source": [
    "labels = [f\"Decile {i+1}\" for i in range(10)]\n",
    "ser_deciles = pd.qcut(ser, q=10, labels=labels)"
   ]
  },
  {
   "cell_type": "code",
   "execution_count": 4,
   "metadata": {},
   "outputs": [
    {
     "name": "stdout",
     "output_type": "stream",
     "text": [
      "Series ban đầu:\n",
      "0     0.485078\n",
      "1     0.495488\n",
      "2     0.688490\n",
      "3     0.506937\n",
      "4     0.852880\n",
      "5     0.641121\n",
      "6     0.188386\n",
      "7     0.820200\n",
      "8     0.397735\n",
      "9     0.784153\n",
      "10    0.536956\n",
      "11    0.299710\n",
      "12    0.229927\n",
      "13    0.213789\n",
      "14    0.375023\n",
      "15    0.350944\n",
      "16    0.986088\n",
      "17    0.581610\n",
      "18    0.469670\n",
      "19    0.982897\n",
      "dtype: float64\n",
      "\n",
      "Series sau khi được chia thành deciles:\n",
      "0      Decile 5\n",
      "1      Decile 5\n",
      "2      Decile 8\n",
      "3      Decile 6\n",
      "4      Decile 9\n",
      "5      Decile 7\n",
      "6      Decile 1\n",
      "7      Decile 9\n",
      "8      Decile 4\n",
      "9      Decile 8\n",
      "10     Decile 6\n",
      "11     Decile 2\n",
      "12     Decile 2\n",
      "13     Decile 1\n",
      "14     Decile 3\n",
      "15     Decile 3\n",
      "16    Decile 10\n",
      "17     Decile 7\n",
      "18     Decile 4\n",
      "19    Decile 10\n",
      "dtype: category\n",
      "Categories (10, object): ['Decile 1' < 'Decile 2' < 'Decile 3' < 'Decile 4' ... 'Decile 7' < 'Decile 8' < 'Decile 9' < 'Decile 10']\n"
     ]
    }
   ],
   "source": [
    "print(\"Series ban đầu:\")\n",
    "print(ser)\n",
    "\n",
    "print(\"\\nSeries sau khi được chia thành deciles:\")\n",
    "print(ser_deciles)"
   ]
  }
 ],
 "metadata": {
  "kernelspec": {
   "display_name": "Python 3",
   "language": "python",
   "name": "python3"
  },
  "language_info": {
   "codemirror_mode": {
    "name": "ipython",
    "version": 3
   },
   "file_extension": ".py",
   "mimetype": "text/x-python",
   "name": "python",
   "nbconvert_exporter": "python",
   "pygments_lexer": "ipython3",
   "version": "3.13.1"
  }
 },
 "nbformat": 4,
 "nbformat_minor": 2
}
