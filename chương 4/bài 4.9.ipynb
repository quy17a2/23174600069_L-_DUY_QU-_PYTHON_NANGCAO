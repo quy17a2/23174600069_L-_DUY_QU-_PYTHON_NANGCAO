{
 "cells": [
  {
   "cell_type": "code",
   "execution_count": 3,
   "metadata": {},
   "outputs": [],
   "source": [
    "import numpy as np\n",
    "import pandas as pd\n",
    "\n"
   ]
  },
  {
   "cell_type": "code",
   "execution_count": 4,
   "metadata": {},
   "outputs": [],
   "source": [
    "ser = pd.Series(np.random.randint(1, 10, 35))\n"
   ]
  },
  {
   "cell_type": "code",
   "execution_count": 5,
   "metadata": {},
   "outputs": [],
   "source": [
    "\n",
    "df = pd.DataFrame(ser.values.reshape(7, 5))"
   ]
  },
  {
   "cell_type": "code",
   "execution_count": 6,
   "metadata": {},
   "outputs": [
    {
     "name": "stdout",
     "output_type": "stream",
     "text": [
      "Series ban đầu:\n",
      "0     6\n",
      "1     8\n",
      "2     8\n",
      "3     1\n",
      "4     6\n",
      "5     9\n",
      "6     4\n",
      "7     3\n",
      "8     7\n",
      "9     6\n",
      "10    5\n",
      "11    7\n",
      "12    1\n",
      "13    8\n",
      "14    6\n",
      "15    9\n",
      "16    4\n",
      "17    3\n",
      "18    7\n",
      "19    2\n",
      "20    9\n",
      "21    6\n",
      "22    3\n",
      "23    2\n",
      "24    5\n",
      "25    7\n",
      "26    1\n",
      "27    5\n",
      "28    6\n",
      "29    9\n",
      "30    8\n",
      "31    3\n",
      "32    2\n",
      "33    5\n",
      "34    6\n",
      "dtype: int32\n",
      "\n",
      "DataFrame sau khi định hình lại:\n",
      "   0  1  2  3  4\n",
      "0  6  8  8  1  6\n",
      "1  9  4  3  7  6\n",
      "2  5  7  1  8  6\n",
      "3  9  4  3  7  2\n",
      "4  9  6  3  2  5\n",
      "5  7  1  5  6  9\n",
      "6  8  3  2  5  6\n"
     ]
    }
   ],
   "source": [
    "\n",
    "print(\"Series ban đầu:\")\n",
    "print(ser)\n",
    "\n",
    "print(\"\\nDataFrame sau khi định hình lại:\")\n",
    "print(df)\n"
   ]
  }
 ],
 "metadata": {
  "kernelspec": {
   "display_name": "Python 3",
   "language": "python",
   "name": "python3"
  },
  "language_info": {
   "codemirror_mode": {
    "name": "ipython",
    "version": 3
   },
   "file_extension": ".py",
   "mimetype": "text/x-python",
   "name": "python",
   "nbconvert_exporter": "python",
   "pygments_lexer": "ipython3",
   "version": "3.13.1"
  }
 },
 "nbformat": 4,
 "nbformat_minor": 2
}
